{
 "cells": [
  {
   "cell_type": "code",
   "execution_count": 1,
   "metadata": {},
   "outputs": [],
   "source": [
    "from time import sleep\n",
    "import terval"
   ]
  },
  {
   "cell_type": "code",
   "execution_count": 2,
   "metadata": {},
   "outputs": [],
   "source": [
    "timer1 = terval.T(\"timer 1\", True)"
   ]
  },
  {
   "cell_type": "code",
   "execution_count": 3,
   "metadata": {},
   "outputs": [
    {
     "name": "stdout",
     "output_type": "stream",
     "text": [
      "╒═════════╤════════════╤═══════════╕\n",
      "│ timer 2 │ named task │ 0.10112 s │\n",
      "╘═════════╧════════════╧═══════════╛\n",
      "╒═════════╤════════╤═══════════╕\n",
      "│ timer 2 │ TASK 2 │ 0.03082 s │\n",
      "╘═════════╧════════╧═══════════╛\n"
     ]
    }
   ],
   "source": [
    "timer2 = terval.T(\"timer 2\")\n",
    "\n",
    "sleep(0.1)\n",
    "timer2.x(\"named task\")\n",
    "\n",
    "sleep(0.03)\n",
    "timer2.x()\n",
    "\n",
    "timer2.shut_up\n",
    "\n",
    "sleep(0.001)\n",
    "timer2.x()"
   ]
  },
  {
   "cell_type": "code",
   "execution_count": 4,
   "metadata": {},
   "outputs": [
    {
     "name": "stdout",
     "output_type": "stream",
     "text": [
      "╒════════╤═══════════╕\n",
      "│ TASK 1 │ 0.19406 s │\n",
      "╘════════╧═══════════╛\n"
     ]
    }
   ],
   "source": [
    "timer1.x()\n",
    "print(timer1)"
   ]
  }
 ],
 "metadata": {
  "kernelspec": {
   "display_name": "Python 3",
   "language": "python",
   "name": "python3"
  },
  "language_info": {
   "codemirror_mode": {
    "name": "ipython",
    "version": 3
   },
   "file_extension": ".py",
   "mimetype": "text/x-python",
   "name": "python",
   "nbconvert_exporter": "python",
   "pygments_lexer": "ipython3",
   "version": "3.11.1"
  },
  "orig_nbformat": 4
 },
 "nbformat": 4,
 "nbformat_minor": 2
}
