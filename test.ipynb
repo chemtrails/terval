{
 "cells": [
  {
   "cell_type": "code",
   "execution_count": 27,
   "metadata": {},
   "outputs": [],
   "source": [
    "from time import sleep\n",
    "import terval"
   ]
  },
  {
   "cell_type": "code",
   "execution_count": 28,
   "metadata": {},
   "outputs": [],
   "source": [
    "t = terval.T(\"timer\", shut_up=True)"
   ]
  },
  {
   "cell_type": "code",
   "execution_count": 29,
   "metadata": {},
   "outputs": [],
   "source": [
    "sleep(0.002)\n",
    "t.x()\n",
    "\n",
    "sleep(0.1)\n",
    "t.x(\"named task\")\n",
    "\n",
    "sleep(0.03)\n",
    "t.x()\n",
    "\n",
    "sleep(0.001)\n",
    "t.x()"
   ]
  },
  {
   "cell_type": "code",
   "execution_count": 30,
   "metadata": {},
   "outputs": [
    {
     "name": "stdout",
     "output_type": "stream",
     "text": [
      "╒════════════╤═══════════╕\n",
      "│ TASK 1     │ 0.03379 s │\n",
      "├────────────┼───────────┤\n",
      "│ named task │ 0.10067 s │\n",
      "├────────────┼───────────┤\n",
      "│ TASK 3     │ 0.03047 s │\n",
      "├────────────┼───────────┤\n",
      "│ TASK 4     │ 0.00132 s │\n",
      "╘════════════╧═══════════╛\n"
     ]
    }
   ],
   "source": [
    "print(t)"
   ]
  }
 ],
 "metadata": {
  "kernelspec": {
   "display_name": "Python 3",
   "language": "python",
   "name": "python3"
  },
  "language_info": {
   "codemirror_mode": {
    "name": "ipython",
    "version": 3
   },
   "file_extension": ".py",
   "mimetype": "text/x-python",
   "name": "python",
   "nbconvert_exporter": "python",
   "pygments_lexer": "ipython3",
   "version": "3.11.1"
  },
  "orig_nbformat": 4
 },
 "nbformat": 4,
 "nbformat_minor": 2
}
